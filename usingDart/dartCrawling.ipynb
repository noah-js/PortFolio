{
 "cells": [
  {
   "cell_type": "code",
   "execution_count": 1,
   "metadata": {},
   "outputs": [],
   "source": [
    "import pandas as pd\n",
    "from bs4 import BeautifulSoup\n",
    "from urllib.request import urlopen\n",
    "import webbrowser\n",
    "import requests\n",
    "import lxml.html\n",
    "import re\n",
    "import matplotlib.pyplot as plt\n",
    "import matplotlib\n",
    "from matplotlib import font_manager\n",
    "%matplotlib inline\n",
    "import urllib.parse\n",
    "import seaborn as sns\n",
    "\n",
    "MARKET_CODE_DICT = {\n",
    "    'kospi': 'stockMkt',\n",
    "    'kosdaq': 'kosdaqMkt',\n",
    "    'konex': 'konexMkt'\n",
    "}\n",
    "DOWNLOAD_URL = 'kind.krx.co.kr/corpgeneral/corpList.do'\n",
    "def download_stock_codes(market=None, delisted=False):\n",
    "    params = {'method': 'download'}\n",
    "\n",
    "    if market.lower() in MARKET_CODE_DICT:\n",
    "        params['marketType'] = MARKET_CODE_DICT[market]\n",
    "\n",
    "    if not delisted:\n",
    "        params['searchType'] = 13\n",
    "\n",
    "    params_string = urllib.parse.urlencode(params)\n",
    "    request_url = urllib.parse.urlunsplit(['http', DOWNLOAD_URL, '', params_string, ''])\n",
    "\n",
    "    df = pd.read_html(request_url, header=0)[0]\n",
    "    df.종목코드 = df.종목코드.map('{:06d}'.format)\n",
    "\n",
    "    return df\n",
    "kosdaq_stocks = download_stock_codes('kospi')"
   ]
  },
  {
   "cell_type": "code",
   "execution_count": 2,
   "metadata": {},
   "outputs": [
    {
     "name": "stdout",
     "output_type": "stream",
     "text": [
      "찾으시는 주식이름을 입력해주세요삼성전자\n"
     ]
    }
   ],
   "source": [
    "stock = input(\"찾으시는 주식이름을 입력해주세요\")"
   ]
  },
  {
   "cell_type": "code",
   "execution_count": 3,
   "metadata": {},
   "outputs": [
    {
     "name": "stdout",
     "output_type": "stream",
     "text": [
      "시작 날짜를 입력해주세요20150101\n"
     ]
    }
   ],
   "source": [
    "startData = input(\"시작 날짜를 입력해주세요\")"
   ]
  },
  {
   "cell_type": "code",
   "execution_count": 4,
   "metadata": {},
   "outputs": [
    {
     "name": "stdout",
     "output_type": "stream",
     "text": [
      "보고싶은 것?매출액\n"
     ]
    }
   ],
   "source": [
    "columName = str(input(\"보고싶은 것?\"))"
   ]
  },
  {
   "cell_type": "code",
   "execution_count": 5,
   "metadata": {},
   "outputs": [
    {
     "data": {
      "text/html": [
       "<div>\n",
       "<style scoped>\n",
       "    .dataframe tbody tr th:only-of-type {\n",
       "        vertical-align: middle;\n",
       "    }\n",
       "\n",
       "    .dataframe tbody tr th {\n",
       "        vertical-align: top;\n",
       "    }\n",
       "\n",
       "    .dataframe thead th {\n",
       "        text-align: right;\n",
       "    }\n",
       "</style>\n",
       "<table border=\"1\" class=\"dataframe\">\n",
       "  <thead>\n",
       "    <tr style=\"text-align: right;\">\n",
       "      <th></th>\n",
       "      <th>crp_cls</th>\n",
       "      <th>crp_nm</th>\n",
       "      <th>crp_cd</th>\n",
       "      <th>rpt_nm</th>\n",
       "      <th>rcp_no</th>\n",
       "      <th>flr_nm</th>\n",
       "      <th>rcp_dt</th>\n",
       "      <th>rmk</th>\n",
       "    </tr>\n",
       "  </thead>\n",
       "  <tbody>\n",
       "    <tr>\n",
       "      <th>0</th>\n",
       "      <td>Y</td>\n",
       "      <td>삼성전자</td>\n",
       "      <td>005930</td>\n",
       "      <td>사업보고서 (2018.12)</td>\n",
       "      <td>20190401004781</td>\n",
       "      <td>삼성전자</td>\n",
       "      <td>20190401</td>\n",
       "      <td>연</td>\n",
       "    </tr>\n",
       "    <tr>\n",
       "      <th>1</th>\n",
       "      <td>Y</td>\n",
       "      <td>삼성전자</td>\n",
       "      <td>005930</td>\n",
       "      <td>사업보고서 (2017.12)</td>\n",
       "      <td>20180402005019</td>\n",
       "      <td>삼성전자</td>\n",
       "      <td>20180402</td>\n",
       "      <td>연</td>\n",
       "    </tr>\n",
       "    <tr>\n",
       "      <th>2</th>\n",
       "      <td>Y</td>\n",
       "      <td>삼성전자</td>\n",
       "      <td>005930</td>\n",
       "      <td>사업보고서 (2016.12)</td>\n",
       "      <td>20170331004518</td>\n",
       "      <td>삼성전자</td>\n",
       "      <td>20170331</td>\n",
       "      <td>연</td>\n",
       "    </tr>\n",
       "    <tr>\n",
       "      <th>3</th>\n",
       "      <td>Y</td>\n",
       "      <td>삼성전자</td>\n",
       "      <td>005930</td>\n",
       "      <td>사업보고서 (2015.12)</td>\n",
       "      <td>20160330003536</td>\n",
       "      <td>삼성전자</td>\n",
       "      <td>20160330</td>\n",
       "      <td>연</td>\n",
       "    </tr>\n",
       "    <tr>\n",
       "      <th>4</th>\n",
       "      <td>Y</td>\n",
       "      <td>삼성전자</td>\n",
       "      <td>005930</td>\n",
       "      <td>사업보고서 (2014.12)</td>\n",
       "      <td>20150331002915</td>\n",
       "      <td>삼성전자</td>\n",
       "      <td>20150331</td>\n",
       "      <td>연</td>\n",
       "    </tr>\n",
       "  </tbody>\n",
       "</table>\n",
       "</div>"
      ],
      "text/plain": [
       "  crp_cls crp_nm  crp_cd           rpt_nm          rcp_no flr_nm    rcp_dt rmk\n",
       "0       Y   삼성전자  005930  사업보고서 (2018.12)  20190401004781   삼성전자  20190401   연\n",
       "1       Y   삼성전자  005930  사업보고서 (2017.12)  20180402005019   삼성전자  20180402   연\n",
       "2       Y   삼성전자  005930  사업보고서 (2016.12)  20170331004518   삼성전자  20170331   연\n",
       "3       Y   삼성전자  005930  사업보고서 (2015.12)  20160330003536   삼성전자  20160330   연\n",
       "4       Y   삼성전자  005930  사업보고서 (2014.12)  20150331002915   삼성전자  20150331   연"
      ]
     },
     "execution_count": 5,
     "metadata": {},
     "output_type": "execute_result"
    }
   ],
   "source": [
    "stock_codeDF = kosdaq_stocks[(kosdaq_stocks.회사명 == stock)][['회사명','종목코드']]\n",
    "\n",
    "stock_code = stock_codeDF.iloc[0]['종목코드']\n",
    "stock_name = stock_codeDF.iloc[0]['회사명']\n",
    "\n",
    "authKey = \"92514dfc41e26715c7159127608020b866378caf\"\n",
    "companyCode = stock_code\n",
    "startDate = startData\n",
    "\n",
    "url = \"http://dart.fss.or.kr/api/search.xml?auth=\"+authKey+\"&crp_cd=\"+companyCode+\"&start_dt=\"+startDate+\"&bsn_tp=A001\"+\"&page_set=100\"\n",
    "\n",
    "resultXML = urlopen(url)\n",
    "result = resultXML.read()\n",
    "\n",
    "xmlsoup = BeautifulSoup(result , 'html.parser')\n",
    "\n",
    "data = pd.DataFrame()\n",
    "te = xmlsoup.findAll(\"list\")\n",
    "\n",
    "for i in te:\n",
    "    temp = pd.DataFrame(([[i.crp_cls.string,i.crp_nm.string,i.crp_cd.string,i.rpt_nm.string,i.rcp_no.string,\n",
    "                          i.flr_nm.string,i.rcp_dt.string,i.rmk.string]]),\n",
    "                       columns = [\"crp_cls\",\"crp_nm\",\"crp_cd\",\"rpt_nm\",\"rcp_no\",\"flr_nm\",\"rcp_dt\",\"rmk\"])\n",
    "    data = pd.concat([data,temp])\n",
    "\n",
    "data = data.reset_index(drop=True)\n",
    "data"
   ]
  },
  {
   "cell_type": "code",
   "execution_count": 6,
   "metadata": {},
   "outputs": [
    {
     "data": {
      "text/plain": [
       "'(2017.12)'"
      ]
     },
     "execution_count": 6,
     "metadata": {},
     "output_type": "execute_result"
    }
   ],
   "source": [
    "data.rpt_nm[1].strip(\"사업보고서 \")"
   ]
  },
  {
   "cell_type": "code",
   "execution_count": 7,
   "metadata": {},
   "outputs": [],
   "source": [
    "rcpNoList = data[\"rcp_no\"].tolist()\n",
    "rptNmList = data[\"rpt_nm\"].tolist()\n",
    "tempList = []\n",
    "realList = []\n",
    "tempIndex = 0\n",
    "for i in range(0,len(rcpNoList)):\n",
    "    url_user = \"http://dart.fss.or.kr/dsaf001/main.do?rcpNo=\"+rcpNoList[i]\n",
    "    req = requests.get(url_user)\n",
    "    tree = lxml.html.fromstring(req.text)\n",
    "    onclick = tree.xpath('//*[@id=\"north\"]/div[2]/ul/li[1]/a')[0].attrib['onclick']\n",
    "    pattern = re.compile(\"^openPdfDownload\\('\\d+',\\s*'(\\d+)'\\)\")\n",
    "    dcm_no = pattern.search(onclick).group(1)\n",
    "    \n",
    "    resp = \"http://dart.fss.or.kr/report/viewer.do?rcpNo=\"+rcpNoList[i]+\"&dcmNo=\"+dcm_no+\"&eleId=11&offset=603619&length=1499098&dtd=dart3.xsd\"\n",
    "\n",
    "    report = urlopen(resp)\n",
    "    tempload = report.read()\n",
    "  \n",
    "    parsing = BeautifulSoup(tempload,'html.parser') \n",
    "    body = parsing.find(\"body\")\n",
    "\n",
    "    table = body.find_all(\"tbody\")\n",
    "    \n",
    "    if(len(table) < 2):\n",
    "        continue\n",
    "    \n",
    "    tmp2 = table[1]    \n",
    "\n",
    "    tr = tmp2.select('tr')\n",
    "    td = tmp2.select('tr > td')\n",
    "    cellCount = int(len(td)/len(tr))\n",
    "    \n",
    "    for j in range(1,len(td)):\n",
    "        if(j % cellCount == 0 ):\n",
    "            tempA = (str(td[j]).split('>')[1].split('<')[0].replace(\"\\xa0\",\"\").strip()) # .replace(\"           \",\"\"))\n",
    "            \n",
    "            ##정규표현식으로 해당 단어 있을 시 찾는걸로 change\n",
    "            if(tempA == columName):\n",
    "                tempIndex = j + 1\n",
    "                tempList.append(str(td[tempIndex]).split('>')[1].split('<')[0])\n",
    "                realList.append(rcpNoList[i])\n",
    "                break;\n",
    "    else:\n",
    "        print(rptNmList[i]+\" 문서에는 찾으시는 자료가 없습니다.\")\n",
    "    \n",
    "#     date = (str(td[tempIndex-cellCount]).split('>')[1].split('<')[0])   \n",
    "\n",
    "tempDataFrame = pd.DataFrame(tempList, columns = [columName])\n",
    "\n",
    "for i in range(0,len(realList)):\n",
    "    realList[i] = realList[i][0:4]\n",
    "\n",
    "tempDataFrame2 = pd.DataFrame(realList, columns = [\"년도\"])\n",
    "\n",
    "\n",
    "resultDataFrame = pd.concat([tempDataFrame2,tempDataFrame], axis = 1)\n",
    "# resultDataFrame = resultDataFrame.sort_values(by = [\"년도\"],ascending = True)\n",
    "# resultDataFrame.reset_index()\n",
    "\n",
    "fontprop = font_manager.FontProperties(fname=\"c:/windows/Fonts/malgun.ttf\").get_name()\n",
    "matplotlib.rc('font', family=fontprop)"
   ]
  },
  {
   "cell_type": "code",
   "execution_count": 8,
   "metadata": {},
   "outputs": [
    {
     "name": "stdout",
     "output_type": "stream",
     "text": [
      "['2019', '2018', '2017', '2016', '2015']\n",
      "['243,771,415', '239,575,376', '201,866,745', '200,653,482', '206,205,987']\n"
     ]
    },
    {
     "data": {
      "text/html": [
       "<div>\n",
       "<style scoped>\n",
       "    .dataframe tbody tr th:only-of-type {\n",
       "        vertical-align: middle;\n",
       "    }\n",
       "\n",
       "    .dataframe tbody tr th {\n",
       "        vertical-align: top;\n",
       "    }\n",
       "\n",
       "    .dataframe thead th {\n",
       "        text-align: right;\n",
       "    }\n",
       "</style>\n",
       "<table border=\"1\" class=\"dataframe\">\n",
       "  <thead>\n",
       "    <tr style=\"text-align: right;\">\n",
       "      <th></th>\n",
       "      <th>년도</th>\n",
       "      <th>매출액</th>\n",
       "    </tr>\n",
       "  </thead>\n",
       "  <tbody>\n",
       "    <tr>\n",
       "      <th>0</th>\n",
       "      <td>2019</td>\n",
       "      <td>243,771,415</td>\n",
       "    </tr>\n",
       "    <tr>\n",
       "      <th>1</th>\n",
       "      <td>2018</td>\n",
       "      <td>239,575,376</td>\n",
       "    </tr>\n",
       "    <tr>\n",
       "      <th>2</th>\n",
       "      <td>2017</td>\n",
       "      <td>201,866,745</td>\n",
       "    </tr>\n",
       "    <tr>\n",
       "      <th>3</th>\n",
       "      <td>2016</td>\n",
       "      <td>200,653,482</td>\n",
       "    </tr>\n",
       "    <tr>\n",
       "      <th>4</th>\n",
       "      <td>2015</td>\n",
       "      <td>206,205,987</td>\n",
       "    </tr>\n",
       "  </tbody>\n",
       "</table>\n",
       "</div>"
      ],
      "text/plain": [
       "     년도          매출액\n",
       "0  2019  243,771,415\n",
       "1  2018  239,575,376\n",
       "2  2017  201,866,745\n",
       "3  2016  200,653,482\n",
       "4  2015  206,205,987"
      ]
     },
     "execution_count": 8,
     "metadata": {},
     "output_type": "execute_result"
    }
   ],
   "source": [
    "x = list(resultDataFrame[\"년도\"])\n",
    "y = list(resultDataFrame[columName])\n",
    "print(x)\n",
    "print(y)\n",
    "resultDataFrame"
   ]
  },
  {
   "cell_type": "code",
   "execution_count": 10,
   "metadata": {},
   "outputs": [
    {
     "data": {
      "text/html": [
       "<div>\n",
       "<style scoped>\n",
       "    .dataframe tbody tr th:only-of-type {\n",
       "        vertical-align: middle;\n",
       "    }\n",
       "\n",
       "    .dataframe tbody tr th {\n",
       "        vertical-align: top;\n",
       "    }\n",
       "\n",
       "    .dataframe thead th {\n",
       "        text-align: right;\n",
       "    }\n",
       "</style>\n",
       "<table border=\"1\" class=\"dataframe\">\n",
       "  <thead>\n",
       "    <tr style=\"text-align: right;\">\n",
       "      <th></th>\n",
       "      <th>년도</th>\n",
       "      <th>매출액</th>\n",
       "    </tr>\n",
       "  </thead>\n",
       "  <tbody>\n",
       "    <tr>\n",
       "      <th>0</th>\n",
       "      <td>2019</td>\n",
       "      <td>243771415</td>\n",
       "    </tr>\n",
       "    <tr>\n",
       "      <th>1</th>\n",
       "      <td>2018</td>\n",
       "      <td>239575376</td>\n",
       "    </tr>\n",
       "    <tr>\n",
       "      <th>2</th>\n",
       "      <td>2017</td>\n",
       "      <td>201866745</td>\n",
       "    </tr>\n",
       "    <tr>\n",
       "      <th>3</th>\n",
       "      <td>2016</td>\n",
       "      <td>200653482</td>\n",
       "    </tr>\n",
       "    <tr>\n",
       "      <th>4</th>\n",
       "      <td>2015</td>\n",
       "      <td>206205987</td>\n",
       "    </tr>\n",
       "  </tbody>\n",
       "</table>\n",
       "</div>"
      ],
      "text/plain": [
       "     년도        매출액\n",
       "0  2019  243771415\n",
       "1  2018  239575376\n",
       "2  2017  201866745\n",
       "3  2016  200653482\n",
       "4  2015  206205987"
      ]
     },
     "execution_count": 10,
     "metadata": {},
     "output_type": "execute_result"
    }
   ],
   "source": [
    "resultDataFrame[\"매출액\"] = resultDataFrame[\"매출액\"].str.replace(',','')\n",
    "\n",
    "resultDataFrame[\"년도\"] = resultDataFrame.년도.astype(int)\n",
    "def columnType(incol):\n",
    "    outcol = incol.replace(\" \",\"\")\n",
    "    return outcol\n",
    "\n",
    "resultDataFrame[\"매출액\"] = resultDataFrame[\"매출액\"].apply(columnType)\n",
    "resultDataFrame[\"매출액\"] =resultDataFrame[\"매출액\"].astype(int)\n",
    "resultDataFrame.sort_values(by='년도',ascending=True)"
   ]
  },
  {
   "cell_type": "code",
   "execution_count": 12,
   "metadata": {},
   "outputs": [
    {
     "data": {
      "text/plain": [
       "Text(0,0.5,'매출액')"
      ]
     },
     "execution_count": 12,
     "metadata": {},
     "output_type": "execute_result"
    },
    {
     "data": {
      "image/png": "[encoded data removed]",
      "text/plain": [
       "<Figure size 1440x576 with 1 Axes>"
      ]
     },
     "metadata": {},
     "output_type": "display_data"
    }
   ],
   "source": [
    "fig = plt.figure(figsize=(20,8))\n",
    "# plt.plot(x,y)\n",
    "plt.plot(x,y, 'bo-', lw=2, label = columName)\n",
    "plt.legend(loc=0)\n",
    "plt.grid(True)\n",
    "plt.xlabel(\"년도\")\n",
    "plt.ylabel(columName)"
   ]
  },
  {
   "cell_type": "code",
   "execution_count": 22,
   "metadata": {},
   "outputs": [
    {
     "data": {
      "image/png": "[encoded data removed]",
      "text/plain": [
       "<Figure size 1152x432 with 1 Axes>"
      ]
     },
     "metadata": {},
     "output_type": "display_data"
    }
   ],
   "source": [
    "plt.figure(figsize=(16,6))\n",
    "sns.barplot(x='년도',y='매출액',data=resultDataFrame)\n",
    "plt.title('삼섬전자 매출액 추이',fontsize='10')\n",
    "plt.show()"
   ]
  },
  {
   "cell_type": "code",
   "execution_count": 33,
   "metadata": {},
   "outputs": [
    {
     "data": {
      "image/png": "[encoded data removed]",
      "text/plain": [
       "<Figure size 360x360 with 1 Axes>"
      ]
     },
     "metadata": {},
     "output_type": "display_data"
    }
   ],
   "source": [
    "sns.lmplot(x='년도',y='매출액',data=resultDataFrame)\n",
    "plt.title('삼성전자 매출액 추세')\n",
    "plt.show()"
   ]
  }
 ],
 "metadata": {
  "kernelspec": {
   "display_name": "Python 3",
   "language": "python",
   "name": "python3"
  },
  "language_info": {
   "codemirror_mode": {
    "name": "ipython",
    "version": 3
   },
   "file_extension": ".py",
   "mimetype": "text/x-python",
   "name": "python",
   "nbconvert_exporter": "python",
   "pygments_lexer": "ipython3",
   "version": "3.6.4"
  }
 },
 "nbformat": 4,
 "nbformat_minor": 2
}

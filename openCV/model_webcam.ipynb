{
 "cells": [
  {
   "cell_type": "markdown",
   "metadata": {},
   "source": [
    "## 1.라이브러리 선언 "
   ]
  },
  {
   "cell_type": "code",
   "execution_count": 1,
   "metadata": {},
   "outputs": [],
   "source": [
    "import pandas as pd\n",
    "import numpy as np\n",
    "import cv2\n",
    "import matplotlib.pyplot as plt\n",
    "%matplotlib inline"
   ]
  },
  {
   "cell_type": "markdown",
   "metadata": {},
   "source": [
    "## 2.이미지 전처리함수 선언 "
   ]
  },
  {
   "cell_type": "code",
   "execution_count": 2,
   "metadata": {},
   "outputs": [],
   "source": [
    "sample = cv2.imread(\"E:/test_image.jpg\",cv2.IMREAD_COLOR)\n",
    "def imgRefining(inputImage):\n",
    "    IMG_SIZE = 28\n",
    "\n",
    "    ##1. 그레이컬러 변경\n",
    "    sample_cvtColor = cv2.cvtColor(inputImage,cv2.COLOR_BGR2GRAY)\n",
    "    sample_cvtSize = cv2.resize(sample_cvtColor,(IMG_SIZE,IMG_SIZE))\n",
    "    sample_cvtNorm = sample_cvtSize.astype(float)/255.0\n",
    "    sample_cvtShape = sample_cvtNorm.reshape(1,IMG_SIZE,IMG_SIZE,1)\n",
    "    \n",
    "    return sample_cvtShape"
   ]
  },
  {
   "cell_type": "code",
   "execution_count": 3,
   "metadata": {},
   "outputs": [
    {
     "data": {
      "text/plain": [
       "(1, 28, 28, 1)"
      ]
     },
     "execution_count": 3,
     "metadata": {},
     "output_type": "execute_result"
    }
   ],
   "source": [
    "imgRefining(sample).shape"
   ]
  },
  {
   "cell_type": "markdown",
   "metadata": {},
   "source": [
    "## 3.모델 불러오기 "
   ]
  },
  {
   "cell_type": "code",
   "execution_count": 4,
   "metadata": {},
   "outputs": [
    {
     "name": "stderr",
     "output_type": "stream",
     "text": [
      "C:\\Users\\SMART-24\\Anaconda3\\lib\\site-packages\\h5py\\__init__.py:36: FutureWarning: Conversion of the second argument of issubdtype from `float` to `np.floating` is deprecated. In future, it will be treated as `np.float64 == np.dtype(float).type`.\n",
      "  from ._conv import register_converters as _register_converters\n",
      "WARNING: Logging before flag parsing goes to stderr.\n",
      "W1102 14:40:03.765349  4536 nn_ops.py:4283] Large dropout rate: 0.8 (>0.5). In TensorFlow 2.x, dropout() uses dropout rate instead of keep_prob. Please ensure that this is intended.\n"
     ]
    },
    {
     "name": "stdout",
     "output_type": "stream",
     "text": [
      "Model: \"sequential\"\n",
      "_________________________________________________________________\n",
      "Layer (type)                 Output Shape              Param #   \n",
      "=================================================================\n",
      "conv2d (Conv2D)              (None, 28, 28, 32)        320       \n",
      "_________________________________________________________________\n",
      "max_pooling2d (MaxPooling2D) (None, 14, 14, 32)        0         \n",
      "_________________________________________________________________\n",
      "conv2d_1 (Conv2D)            (None, 14, 14, 32)        9248      \n",
      "_________________________________________________________________\n",
      "max_pooling2d_1 (MaxPooling2 (None, 7, 7, 32)          0         \n",
      "_________________________________________________________________\n",
      "conv2d_2 (Conv2D)            (None, 7, 7, 32)          9248      \n",
      "_________________________________________________________________\n",
      "max_pooling2d_2 (MaxPooling2 (None, 3, 3, 32)          0         \n",
      "_________________________________________________________________\n",
      "flatten (Flatten)            (None, 288)               0         \n",
      "_________________________________________________________________\n",
      "dropout (Dropout)            (None, 288)               0         \n",
      "_________________________________________________________________\n",
      "dense (Dense)                (None, 10)                2890      \n",
      "=================================================================\n",
      "Total params: 21,706\n",
      "Trainable params: 21,706\n",
      "Non-trainable params: 0\n",
      "_________________________________________________________________\n"
     ]
    }
   ],
   "source": [
    "from tensorflow.keras.models import model_from_json\n",
    "import warnings\n",
    "warnings.filterwarnings(action=\"ignore\")\n",
    "\n",
    "## model 불러오기 (json, h5) \n",
    "\n",
    "json_file = open(\"E:/model_mnist_koppo.json\", \"r\") \n",
    "\n",
    "loaded_model_json = json_file.read()\n",
    "\n",
    "json_file.close()\n",
    "\n",
    "loaded_model = model_from_json(loaded_model_json)\n",
    "\n",
    "loaded_model.summary()\n",
    "\n",
    "loaded_model.load_weights(\"E:/model_mnist_kopo_weight.h5\")"
   ]
  },
  {
   "cell_type": "markdown",
   "metadata": {},
   "source": [
    "## 4.이미지캡쳐"
   ]
  },
  {
   "cell_type": "code",
   "execution_count": 5,
   "metadata": {},
   "outputs": [],
   "source": [
    "cap = cv2.VideoCapture(0)\n",
    "width = int(cap.get(cv2.CAP_PROP_FRAME_WIDTH))\n",
    "height = int(cap.get(cv2.CAP_PROP_FRAME_HEIGHT))\n",
    "CAP_SIZE = 150"
   ]
  },
  {
   "cell_type": "code",
   "execution_count": null,
   "metadata": {},
   "outputs": [],
   "source": [
    "# ##말로 설명해줌 -:> python version update 필용 3버젼으로\n",
    "# import pyttsx3\n",
    "# engine = pyttsx3.init(\"dummy\")"
   ]
  },
  {
   "cell_type": "code",
   "execution_count": null,
   "metadata": {},
   "outputs": [],
   "source": [
    "## spacebar & 실시간\n",
    "while(True):\n",
    "    ret,colorFrame = cap.read()\n",
    "    if ret == False:\n",
    "        break\n",
    "    \n",
    "    ##캡쳐 영역설정\n",
    "    ##좌표 수학적 계산\n",
    "    x1= int(width/2-CAP_SIZE/2)\n",
    "    y1= int(height/2-CAP_SIZE/2)\n",
    "    x2= int(width/2+CAP_SIZE/2)\n",
    "    y2= int(height/2+CAP_SIZE/2)\n",
    "    \n",
    "    cv2.rectangle(colorFrame,(x1,y1),(x2,y2),(0,0,255),3)\n",
    "    ##예측용으로 만든것\n",
    "    imputFrame = colorFrame.copy()\n",
    "    \n",
    "    ##사각형 이미지만 잡히게 할 수 있는 부분\n",
    "    img_roi = colorFrame[y1:y1+CAP_SIZE, x1:x1+CAP_SIZE]\n",
    "    \n",
    "    refinedImage = imgRefining(img_roi)\n",
    "    predictValue = np.argmax(loaded_model.predict(refinedImage))\n",
    "    \n",
    "    try:\n",
    "        cv2.putText(colorFrame, str(predictValue),\n",
    "                                    (x1,y1-10),\n",
    "                                    cv2.FONT_HERSHEY_SIMPLEX,\n",
    "                                    1,\n",
    "                                    (0,255,255),\n",
    "                                    3)\n",
    "    except Exception as e:\n",
    "        print(e)\n",
    "        pass\n",
    "    \n",
    "    cv2.imshow(\"webcam\",colorFrame)\n",
    "    \n",
    "    k = cv2.waitKey(33)\n",
    "    \n",
    "    if k == 27: #esc키\n",
    "        cap.release()\n",
    "        cv2.destroyAllWindows()\n",
    "    elif k==32: #spacebar키\n",
    "        ##예측\n",
    "        refinedImage = imgRefining(img_roi)\n",
    "        predictValue = np.argmax(loaded_model.predict(refinedImage))\n",
    "#         engine.say(str(predictValue))\n",
    "#         engine.runAndWait()\n",
    "        print(predictValue)\n",
    "        cv2.imwrite(\"E:/cap_test.jpg\",img_roi)\n",
    "\n",
    "cap.release()\n",
    "cv2.destroyAllWindows()"
   ]
  },
  {
   "cell_type": "code",
   "execution_count": null,
   "metadata": {},
   "outputs": [],
   "source": [
    "##감정 인지 할때 마지막에 이용해야함(이미지 캡쳐에서)\n",
    "emotionList = [\"angry\",\"disgust\",\"fear\",\"happy\",\"sad\",\"surprise\"]\n",
    "emotionList[0]"
   ]
  },
  {
   "cell_type": "code",
   "execution_count": null,
   "metadata": {},
   "outputs": [],
   "source": []
  },
  {
   "cell_type": "code",
   "execution_count": null,
   "metadata": {},
   "outputs": [],
   "source": []
  }
 ],
 "metadata": {
  "kernelspec": {
   "display_name": "Python 3",
   "language": "python",
   "name": "python3"
  },
  "language_info": {
   "codemirror_mode": {
    "name": "ipython",
    "version": 3
   },
   "file_extension": ".py",
   "mimetype": "text/x-python",
   "name": "python",
   "nbconvert_exporter": "python",
   "pygments_lexer": "ipython3",
   "version": "3.6.4"
  }
 },
 "nbformat": 4,
 "nbformat_minor": 2
}
